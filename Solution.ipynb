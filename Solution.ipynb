def utopianTree(ncycles):
    height =0
    for i in range(ncycles+1):
    
        if(i%2 ==0):
            height = height + 1
        else:
            height = 2* height
    return height       
        
    
